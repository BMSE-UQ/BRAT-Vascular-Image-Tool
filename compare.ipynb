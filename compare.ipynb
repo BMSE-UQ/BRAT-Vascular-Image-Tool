{
 "cells": [
  {
   "cell_type": "code",
   "execution_count": 23,
   "metadata": {},
   "outputs": [],
   "source": [
    "import skimage\n",
    "import numpy as np\n",
    "import glob\n",
    "import os\n",
    "import pandas as pd"
   ]
  },
  {
   "cell_type": "code",
   "execution_count": 25,
   "metadata": {},
   "outputs": [],
   "source": [
    "def metrics(orig: np.ndarray, comparision: np.ndarray):\n",
    "    orig = np.array(orig, dtype = bool)\n",
    "    comparision = np.array(comparision, dtype = bool)\n",
    "    totalPixels = orig.shape[0] * orig.shape[1]\n",
    "\n",
    "    TP = np.sum((orig == 1) & (comparision == 1))\n",
    "    TN = np.sum((orig == 0) & (comparision == 0))\n",
    "    FP = np.sum((orig == 0) & (comparision == 1))\n",
    "    FN = np.sum((orig == 1) & (comparision == 0))\n",
    "\n",
    "    accuracy = (TP + TN)/totalPixels\n",
    "    sensitiviy = (TP)/(TP + FN)\n",
    "    specificity = (TN)/(TN + FP)\n",
    "\n",
    "    return {\"accuracy\":accuracy, \"sensitiviy\":sensitiviy, \"specificity\":specificity}"
   ]
  },
  {
   "cell_type": "code",
   "execution_count": 7,
   "metadata": {},
   "outputs": [
    {
     "name": "stdout",
     "output_type": "stream",
     "text": [
      "['C:\\\\Users\\\\harry\\\\Downloads\\\\REAVER_Vascular_Networks_Image_Dataset\\\\REAVER_Vascular_Networks_Image_Dataset\\\\Manual\\\\diaphragm_60x_1.tif', 'C:\\\\Users\\\\harry\\\\Downloads\\\\REAVER_Vascular_Networks_Image_Dataset\\\\REAVER_Vascular_Networks_Image_Dataset\\\\Manual\\\\diaphragm_60x_2.tif', 'C:\\\\Users\\\\harry\\\\Downloads\\\\REAVER_Vascular_Networks_Image_Dataset\\\\REAVER_Vascular_Networks_Image_Dataset\\\\Manual\\\\diaphragm_60x_3.tif', 'C:\\\\Users\\\\harry\\\\Downloads\\\\REAVER_Vascular_Networks_Image_Dataset\\\\REAVER_Vascular_Networks_Image_Dataset\\\\Manual\\\\diaphragm_60x_4.tif', 'C:\\\\Users\\\\harry\\\\Downloads\\\\REAVER_Vascular_Networks_Image_Dataset\\\\REAVER_Vascular_Networks_Image_Dataset\\\\Manual\\\\diaphragm_60x_5.tif', 'C:\\\\Users\\\\harry\\\\Downloads\\\\REAVER_Vascular_Networks_Image_Dataset\\\\REAVER_Vascular_Networks_Image_Dataset\\\\Manual\\\\diaphragm_60x_6.tif', 'C:\\\\Users\\\\harry\\\\Downloads\\\\REAVER_Vascular_Networks_Image_Dataset\\\\REAVER_Vascular_Networks_Image_Dataset\\\\Manual\\\\heart_60x_1.tif', 'C:\\\\Users\\\\harry\\\\Downloads\\\\REAVER_Vascular_Networks_Image_Dataset\\\\REAVER_Vascular_Networks_Image_Dataset\\\\Manual\\\\heart_60x_2.tif', 'C:\\\\Users\\\\harry\\\\Downloads\\\\REAVER_Vascular_Networks_Image_Dataset\\\\REAVER_Vascular_Networks_Image_Dataset\\\\Manual\\\\heart_60x_3.tif', 'C:\\\\Users\\\\harry\\\\Downloads\\\\REAVER_Vascular_Networks_Image_Dataset\\\\REAVER_Vascular_Networks_Image_Dataset\\\\Manual\\\\heart_60x_4.tif', 'C:\\\\Users\\\\harry\\\\Downloads\\\\REAVER_Vascular_Networks_Image_Dataset\\\\REAVER_Vascular_Networks_Image_Dataset\\\\Manual\\\\heart_60x_5.tif', 'C:\\\\Users\\\\harry\\\\Downloads\\\\REAVER_Vascular_Networks_Image_Dataset\\\\REAVER_Vascular_Networks_Image_Dataset\\\\Manual\\\\heart_60x_6.tif', 'C:\\\\Users\\\\harry\\\\Downloads\\\\REAVER_Vascular_Networks_Image_Dataset\\\\REAVER_Vascular_Networks_Image_Dataset\\\\Manual\\\\ing_fat_20x_1.tif', 'C:\\\\Users\\\\harry\\\\Downloads\\\\REAVER_Vascular_Networks_Image_Dataset\\\\REAVER_Vascular_Networks_Image_Dataset\\\\Manual\\\\ing_fat_20x_2.tif', 'C:\\\\Users\\\\harry\\\\Downloads\\\\REAVER_Vascular_Networks_Image_Dataset\\\\REAVER_Vascular_Networks_Image_Dataset\\\\Manual\\\\ing_fat_20x_3.tif', 'C:\\\\Users\\\\harry\\\\Downloads\\\\REAVER_Vascular_Networks_Image_Dataset\\\\REAVER_Vascular_Networks_Image_Dataset\\\\Manual\\\\ing_fat_60x_1.tif', 'C:\\\\Users\\\\harry\\\\Downloads\\\\REAVER_Vascular_Networks_Image_Dataset\\\\REAVER_Vascular_Networks_Image_Dataset\\\\Manual\\\\ing_fat_60x_2.tif', 'C:\\\\Users\\\\harry\\\\Downloads\\\\REAVER_Vascular_Networks_Image_Dataset\\\\REAVER_Vascular_Networks_Image_Dataset\\\\Manual\\\\ing_fat_60x_3.tif', 'C:\\\\Users\\\\harry\\\\Downloads\\\\REAVER_Vascular_Networks_Image_Dataset\\\\REAVER_Vascular_Networks_Image_Dataset\\\\Manual\\\\liver_60x_1.tif', 'C:\\\\Users\\\\harry\\\\Downloads\\\\REAVER_Vascular_Networks_Image_Dataset\\\\REAVER_Vascular_Networks_Image_Dataset\\\\Manual\\\\liver_60x_2.tif', 'C:\\\\Users\\\\harry\\\\Downloads\\\\REAVER_Vascular_Networks_Image_Dataset\\\\REAVER_Vascular_Networks_Image_Dataset\\\\Manual\\\\liver_60x_3.tif', 'C:\\\\Users\\\\harry\\\\Downloads\\\\REAVER_Vascular_Networks_Image_Dataset\\\\REAVER_Vascular_Networks_Image_Dataset\\\\Manual\\\\liver_60x_4.tif', 'C:\\\\Users\\\\harry\\\\Downloads\\\\REAVER_Vascular_Networks_Image_Dataset\\\\REAVER_Vascular_Networks_Image_Dataset\\\\Manual\\\\liver_60x_5.tif', 'C:\\\\Users\\\\harry\\\\Downloads\\\\REAVER_Vascular_Networks_Image_Dataset\\\\REAVER_Vascular_Networks_Image_Dataset\\\\Manual\\\\liver_60x_6.tif', 'C:\\\\Users\\\\harry\\\\Downloads\\\\REAVER_Vascular_Networks_Image_Dataset\\\\REAVER_Vascular_Networks_Image_Dataset\\\\Manual\\\\periton_cav_20x_1.tif', 'C:\\\\Users\\\\harry\\\\Downloads\\\\REAVER_Vascular_Networks_Image_Dataset\\\\REAVER_Vascular_Networks_Image_Dataset\\\\Manual\\\\periton_cav_20x_2.tif', 'C:\\\\Users\\\\harry\\\\Downloads\\\\REAVER_Vascular_Networks_Image_Dataset\\\\REAVER_Vascular_Networks_Image_Dataset\\\\Manual\\\\periton_cav_20x_3.tif', 'C:\\\\Users\\\\harry\\\\Downloads\\\\REAVER_Vascular_Networks_Image_Dataset\\\\REAVER_Vascular_Networks_Image_Dataset\\\\Manual\\\\periton_cav_60x_1.tif', 'C:\\\\Users\\\\harry\\\\Downloads\\\\REAVER_Vascular_Networks_Image_Dataset\\\\REAVER_Vascular_Networks_Image_Dataset\\\\Manual\\\\periton_cav_60x_2.tif', 'C:\\\\Users\\\\harry\\\\Downloads\\\\REAVER_Vascular_Networks_Image_Dataset\\\\REAVER_Vascular_Networks_Image_Dataset\\\\Manual\\\\periton_cav_60x_3.tif', 'C:\\\\Users\\\\harry\\\\Downloads\\\\REAVER_Vascular_Networks_Image_Dataset\\\\REAVER_Vascular_Networks_Image_Dataset\\\\Manual\\\\retina_20x_1.tif', 'C:\\\\Users\\\\harry\\\\Downloads\\\\REAVER_Vascular_Networks_Image_Dataset\\\\REAVER_Vascular_Networks_Image_Dataset\\\\Manual\\\\retina_20x_2.tif', 'C:\\\\Users\\\\harry\\\\Downloads\\\\REAVER_Vascular_Networks_Image_Dataset\\\\REAVER_Vascular_Networks_Image_Dataset\\\\Manual\\\\retina_20x_3.tif', 'C:\\\\Users\\\\harry\\\\Downloads\\\\REAVER_Vascular_Networks_Image_Dataset\\\\REAVER_Vascular_Networks_Image_Dataset\\\\Manual\\\\retina_60x_1.tif', 'C:\\\\Users\\\\harry\\\\Downloads\\\\REAVER_Vascular_Networks_Image_Dataset\\\\REAVER_Vascular_Networks_Image_Dataset\\\\Manual\\\\retina_60x_2.tif', 'C:\\\\Users\\\\harry\\\\Downloads\\\\REAVER_Vascular_Networks_Image_Dataset\\\\REAVER_Vascular_Networks_Image_Dataset\\\\Manual\\\\retina_60x_3.tif']\n",
      "['C:\\\\Users\\\\harry\\\\Downloads\\\\REAVER_Vascular_Networks_Image_Dataset\\\\REAVER_Vascular_Networks_Image_Dataset\\\\BRAT\\\\diaphragm_60x_1.tif.tif', 'C:\\\\Users\\\\harry\\\\Downloads\\\\REAVER_Vascular_Networks_Image_Dataset\\\\REAVER_Vascular_Networks_Image_Dataset\\\\BRAT\\\\diaphragm_60x_2.tif.tif', 'C:\\\\Users\\\\harry\\\\Downloads\\\\REAVER_Vascular_Networks_Image_Dataset\\\\REAVER_Vascular_Networks_Image_Dataset\\\\BRAT\\\\diaphragm_60x_3.tif.tif', 'C:\\\\Users\\\\harry\\\\Downloads\\\\REAVER_Vascular_Networks_Image_Dataset\\\\REAVER_Vascular_Networks_Image_Dataset\\\\BRAT\\\\diaphragm_60x_4.tif.tif', 'C:\\\\Users\\\\harry\\\\Downloads\\\\REAVER_Vascular_Networks_Image_Dataset\\\\REAVER_Vascular_Networks_Image_Dataset\\\\BRAT\\\\diaphragm_60x_5.tif.tif', 'C:\\\\Users\\\\harry\\\\Downloads\\\\REAVER_Vascular_Networks_Image_Dataset\\\\REAVER_Vascular_Networks_Image_Dataset\\\\BRAT\\\\diaphragm_60x_6.tif.tif', 'C:\\\\Users\\\\harry\\\\Downloads\\\\REAVER_Vascular_Networks_Image_Dataset\\\\REAVER_Vascular_Networks_Image_Dataset\\\\BRAT\\\\heart_60x_1.tif.tif', 'C:\\\\Users\\\\harry\\\\Downloads\\\\REAVER_Vascular_Networks_Image_Dataset\\\\REAVER_Vascular_Networks_Image_Dataset\\\\BRAT\\\\heart_60x_2.tif.tif', 'C:\\\\Users\\\\harry\\\\Downloads\\\\REAVER_Vascular_Networks_Image_Dataset\\\\REAVER_Vascular_Networks_Image_Dataset\\\\BRAT\\\\heart_60x_3.tif.tif', 'C:\\\\Users\\\\harry\\\\Downloads\\\\REAVER_Vascular_Networks_Image_Dataset\\\\REAVER_Vascular_Networks_Image_Dataset\\\\BRAT\\\\heart_60x_4.tif.tif', 'C:\\\\Users\\\\harry\\\\Downloads\\\\REAVER_Vascular_Networks_Image_Dataset\\\\REAVER_Vascular_Networks_Image_Dataset\\\\BRAT\\\\heart_60x_5.tif.tif', 'C:\\\\Users\\\\harry\\\\Downloads\\\\REAVER_Vascular_Networks_Image_Dataset\\\\REAVER_Vascular_Networks_Image_Dataset\\\\BRAT\\\\heart_60x_6.tif.tif', 'C:\\\\Users\\\\harry\\\\Downloads\\\\REAVER_Vascular_Networks_Image_Dataset\\\\REAVER_Vascular_Networks_Image_Dataset\\\\BRAT\\\\ing_fat_20x_1.tif.tif', 'C:\\\\Users\\\\harry\\\\Downloads\\\\REAVER_Vascular_Networks_Image_Dataset\\\\REAVER_Vascular_Networks_Image_Dataset\\\\BRAT\\\\ing_fat_20x_2.tif.tif', 'C:\\\\Users\\\\harry\\\\Downloads\\\\REAVER_Vascular_Networks_Image_Dataset\\\\REAVER_Vascular_Networks_Image_Dataset\\\\BRAT\\\\ing_fat_20x_3.tif.tif', 'C:\\\\Users\\\\harry\\\\Downloads\\\\REAVER_Vascular_Networks_Image_Dataset\\\\REAVER_Vascular_Networks_Image_Dataset\\\\BRAT\\\\ing_fat_60x_1.tif.tif', 'C:\\\\Users\\\\harry\\\\Downloads\\\\REAVER_Vascular_Networks_Image_Dataset\\\\REAVER_Vascular_Networks_Image_Dataset\\\\BRAT\\\\ing_fat_60x_2.tif.tif', 'C:\\\\Users\\\\harry\\\\Downloads\\\\REAVER_Vascular_Networks_Image_Dataset\\\\REAVER_Vascular_Networks_Image_Dataset\\\\BRAT\\\\ing_fat_60x_3.tif.tif', 'C:\\\\Users\\\\harry\\\\Downloads\\\\REAVER_Vascular_Networks_Image_Dataset\\\\REAVER_Vascular_Networks_Image_Dataset\\\\BRAT\\\\liver_60x_1.tif.tif', 'C:\\\\Users\\\\harry\\\\Downloads\\\\REAVER_Vascular_Networks_Image_Dataset\\\\REAVER_Vascular_Networks_Image_Dataset\\\\BRAT\\\\liver_60x_2.tif.tif', 'C:\\\\Users\\\\harry\\\\Downloads\\\\REAVER_Vascular_Networks_Image_Dataset\\\\REAVER_Vascular_Networks_Image_Dataset\\\\BRAT\\\\liver_60x_3.tif.tif', 'C:\\\\Users\\\\harry\\\\Downloads\\\\REAVER_Vascular_Networks_Image_Dataset\\\\REAVER_Vascular_Networks_Image_Dataset\\\\BRAT\\\\liver_60x_4.tif.tif', 'C:\\\\Users\\\\harry\\\\Downloads\\\\REAVER_Vascular_Networks_Image_Dataset\\\\REAVER_Vascular_Networks_Image_Dataset\\\\BRAT\\\\liver_60x_5.tif.tif', 'C:\\\\Users\\\\harry\\\\Downloads\\\\REAVER_Vascular_Networks_Image_Dataset\\\\REAVER_Vascular_Networks_Image_Dataset\\\\BRAT\\\\liver_60x_6.tif.tif', 'C:\\\\Users\\\\harry\\\\Downloads\\\\REAVER_Vascular_Networks_Image_Dataset\\\\REAVER_Vascular_Networks_Image_Dataset\\\\BRAT\\\\periton_cav_20x_1.tif.tif', 'C:\\\\Users\\\\harry\\\\Downloads\\\\REAVER_Vascular_Networks_Image_Dataset\\\\REAVER_Vascular_Networks_Image_Dataset\\\\BRAT\\\\periton_cav_20x_2.tif.tif', 'C:\\\\Users\\\\harry\\\\Downloads\\\\REAVER_Vascular_Networks_Image_Dataset\\\\REAVER_Vascular_Networks_Image_Dataset\\\\BRAT\\\\periton_cav_20x_3.tif.tif', 'C:\\\\Users\\\\harry\\\\Downloads\\\\REAVER_Vascular_Networks_Image_Dataset\\\\REAVER_Vascular_Networks_Image_Dataset\\\\BRAT\\\\periton_cav_60x_1.tif.tif', 'C:\\\\Users\\\\harry\\\\Downloads\\\\REAVER_Vascular_Networks_Image_Dataset\\\\REAVER_Vascular_Networks_Image_Dataset\\\\BRAT\\\\periton_cav_60x_2.tif.tif', 'C:\\\\Users\\\\harry\\\\Downloads\\\\REAVER_Vascular_Networks_Image_Dataset\\\\REAVER_Vascular_Networks_Image_Dataset\\\\BRAT\\\\periton_cav_60x_3.tif.tif', 'C:\\\\Users\\\\harry\\\\Downloads\\\\REAVER_Vascular_Networks_Image_Dataset\\\\REAVER_Vascular_Networks_Image_Dataset\\\\BRAT\\\\retina_20x_1.tif.tif', 'C:\\\\Users\\\\harry\\\\Downloads\\\\REAVER_Vascular_Networks_Image_Dataset\\\\REAVER_Vascular_Networks_Image_Dataset\\\\BRAT\\\\retina_20x_2.tif.tif', 'C:\\\\Users\\\\harry\\\\Downloads\\\\REAVER_Vascular_Networks_Image_Dataset\\\\REAVER_Vascular_Networks_Image_Dataset\\\\BRAT\\\\retina_20x_3.tif.tif', 'C:\\\\Users\\\\harry\\\\Downloads\\\\REAVER_Vascular_Networks_Image_Dataset\\\\REAVER_Vascular_Networks_Image_Dataset\\\\BRAT\\\\retina_60x_1.tif.tif', 'C:\\\\Users\\\\harry\\\\Downloads\\\\REAVER_Vascular_Networks_Image_Dataset\\\\REAVER_Vascular_Networks_Image_Dataset\\\\BRAT\\\\retina_60x_2.tif.tif', 'C:\\\\Users\\\\harry\\\\Downloads\\\\REAVER_Vascular_Networks_Image_Dataset\\\\REAVER_Vascular_Networks_Image_Dataset\\\\BRAT\\\\retina_60x_3.tif.tif']\n"
     ]
    }
   ],
   "source": [
    "#Get all the items\n",
    "#Originals\n",
    "Truth = glob.glob(\"C:\\\\Users\\\\harry\\\\Downloads\\\\REAVER_Vascular_Networks_Image_Dataset\\\\REAVER_Vascular_Networks_Image_Dataset\\\\Manual\\\\*.tif\")\n",
    "BRAT = glob.glob(\"C:\\\\Users\\\\harry\\\\Downloads\\\\REAVER_Vascular_Networks_Image_Dataset\\\\REAVER_Vascular_Networks_Image_Dataset\\\\BRAT\\\\*.tif\")\n",
    "print(Truth)\n",
    "print(BRAT)\n",
    "\n"
   ]
  },
  {
   "cell_type": "code",
   "execution_count": 26,
   "metadata": {},
   "outputs": [
    {
     "name": "stdout",
     "output_type": "stream",
     "text": [
      "{'diaphragm_60x_1.tif': {'accuracy': 0.9543437957763672, 'sensitiviy': 0.6549118625224937, 'specificity': 0.9880670815493907}, 'diaphragm_60x_2.tif': {'accuracy': 0.9334259033203125, 'sensitiviy': 0.7902249397663542, 'specificity': 0.9898408731372054}, 'diaphragm_60x_3.tif': {'accuracy': 0.960698127746582, 'sensitiviy': 0.9193827441542815, 'specificity': 0.9778406284830641}, 'diaphragm_60x_4.tif': {'accuracy': 0.9577674865722656, 'sensitiviy': 0.9703520996017898, 'specificity': 0.9535344009074167}, 'diaphragm_60x_5.tif': {'accuracy': 0.9732379913330078, 'sensitiviy': 0.9775101558673542, 'specificity': 0.9723906924440391}, 'diaphragm_60x_6.tif': {'accuracy': 0.9633312225341797, 'sensitiviy': 0.9740837064643268, 'specificity': 0.9610052767051274}, 'heart_60x_1.tif': {'accuracy': 0.9618034362792969, 'sensitiviy': 0.9233439935842893, 'specificity': 0.9711211523105685}, 'heart_60x_2.tif': {'accuracy': 0.9112062454223633, 'sensitiviy': 0.8375587194158114, 'specificity': 0.9496024606813301}, 'heart_60x_3.tif': {'accuracy': 0.9488344192504883, 'sensitiviy': 0.910671921891666, 'specificity': 0.9698347810016633}, 'heart_60x_4.tif': {'accuracy': 0.9357156753540039, 'sensitiviy': 0.9422358611341215, 'specificity': 0.933504130289299}, 'heart_60x_5.tif': {'accuracy': 0.9531230926513672, 'sensitiviy': 0.9366883322965991, 'specificity': 0.9601831805465423}, 'heart_60x_6.tif': {'accuracy': 0.9167442321777344, 'sensitiviy': 0.8657004504558845, 'specificity': 0.950107789379395}, 'ing_fat_20x_1.tif': {'accuracy': 0.9505224227905273, 'sensitiviy': 0.8876559486315584, 'specificity': 0.9621640255894387}, 'ing_fat_20x_2.tif': {'accuracy': 0.9442129135131836, 'sensitiviy': 0.8936203022425872, 'specificity': 0.9548085351787774}, 'ing_fat_20x_3.tif': {'accuracy': 0.9488973617553711, 'sensitiviy': 0.919516868939086, 'specificity': 0.9539932877268805}, 'ing_fat_60x_1.tif': {'accuracy': 0.9840469360351562, 'sensitiviy': 0.8938004927519624, 'specificity': 0.9904839164497264}, 'ing_fat_60x_2.tif': {'accuracy': 0.9643735885620117, 'sensitiviy': 0.8577800556856118, 'specificity': 0.9722547970319085}, 'ing_fat_60x_3.tif': {'accuracy': 0.9739809036254883, 'sensitiviy': 0.9044857142857143, 'specificity': 0.9789520691290201}, 'liver_60x_1.tif': {'accuracy': 0.8835906982421875, 'sensitiviy': 0.7610661522536935, 'specificity': 0.9671240874039289}, 'liver_60x_2.tif': {'accuracy': 0.8714704513549805, 'sensitiviy': 0.7607789324639682, 'specificity': 0.957197541477415}, 'liver_60x_3.tif': {'accuracy': 0.8518104553222656, 'sensitiviy': 0.7321430842202978, 'specificity': 0.9497106158386246}, 'liver_60x_4.tif': {'accuracy': 0.8133163452148438, 'sensitiviy': 0.6995761211624921, 'specificity': 0.9192146694241511}, 'liver_60x_5.tif': {'accuracy': 0.7527885437011719, 'sensitiviy': 0.6198550809040817, 'specificity': 0.8898463815107722}, 'liver_60x_6.tif': {'accuracy': 0.777587890625, 'sensitiviy': 0.6412234047366125, 'specificity': 0.9295142816243168}, 'periton_cav_20x_1.tif': {'accuracy': 0.9676799774169922, 'sensitiviy': 0.9525099737588804, 'specificity': 0.9709830864352375}, 'periton_cav_20x_2.tif': {'accuracy': 0.9450216293334961, 'sensitiviy': 0.9751596077185576, 'specificity': 0.9381293868129035}, 'periton_cav_20x_3.tif': {'accuracy': 0.9394807815551758, 'sensitiviy': 0.9581157708786758, 'specificity': 0.9349543770313422}, 'periton_cav_60x_1.tif': {'accuracy': 0.9569711685180664, 'sensitiviy': 0.8395999051783174, 'specificity': 0.9768487541150336}, 'periton_cav_60x_2.tif': {'accuracy': 0.9520978927612305, 'sensitiviy': 0.8624406908331752, 'specificity': 0.9782949729565197}, 'periton_cav_60x_3.tif': {'accuracy': 0.9755439758300781, 'sensitiviy': 0.9236121781504489, 'specificity': 0.9833272106195272}, 'retina_20x_1.tif': {'accuracy': 0.9680080413818359, 'sensitiviy': 0.9749798932514441, 'specificity': 0.9663121975857846}, 'retina_20x_2.tif': {'accuracy': 0.9605522155761719, 'sensitiviy': 0.9814262387741004, 'specificity': 0.9559008746355685}, 'retina_20x_3.tif': {'accuracy': 0.9692306518554688, 'sensitiviy': 0.9841927357152435, 'specificity': 0.9668926824050662}, 'retina_60x_1.tif': {'accuracy': 0.9733791351318359, 'sensitiviy': 0.9151515151515152, 'specificity': 0.9886151706280547}, 'retina_60x_2.tif': {'accuracy': 0.9802837371826172, 'sensitiviy': 0.9371799953305787, 'specificity': 0.9894678267790684}, 'retina_60x_3.tif': {'accuracy': 0.9791812896728516, 'sensitiviy': 0.9281903637538146, 'specificity': 0.9897181140708213}}\n"
     ]
    }
   ],
   "source": [
    "#Assuming in order, because I'm lazy\n",
    "results = {}\n",
    "for i, item in enumerate(Truth):\n",
    "    truthImg = skimage.io.imread(item, as_gray=True) > 0.1\n",
    "    bratImg = skimage.io.imread(BRAT[i], as_gray=True) > 0.1\n",
    "    \n",
    "    name = os.path.basename(item)\n",
    "    results[name] = metrics(truthImg, bratImg)\n",
    "print(results)\n",
    "\n"
   ]
  },
  {
   "cell_type": "code",
   "execution_count": 28,
   "metadata": {},
   "outputs": [],
   "source": [
    "# Save results to csv\n",
    "pd_result = pd.DataFrame(results)\n",
    "pd_result.to_csv(\"segmentation metrics.csv\")"
   ]
  }
 ],
 "metadata": {
  "kernelspec": {
   "display_name": "thesis",
   "language": "python",
   "name": "python3"
  },
  "language_info": {
   "codemirror_mode": {
    "name": "ipython",
    "version": 3
   },
   "file_extension": ".py",
   "mimetype": "text/x-python",
   "name": "python",
   "nbconvert_exporter": "python",
   "pygments_lexer": "ipython3",
   "version": "3.11.5"
  }
 },
 "nbformat": 4,
 "nbformat_minor": 2
}
